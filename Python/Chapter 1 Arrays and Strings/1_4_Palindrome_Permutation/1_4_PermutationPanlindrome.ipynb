{
 "cells": [
  {
   "cell_type": "code",
   "execution_count": 28,
   "metadata": {
    "scrolled": true
   },
   "outputs": [
    {
     "name": "stdout",
     "output_type": "stream",
     "text": [
      "Zeus was deified, saw Suez\n",
      "f = 1\n",
      "Final => 1\n",
      "True\n",
      "83 115\n",
      "90 122\n",
      "44\n"
     ]
    }
   ],
   "source": [
    "#write a function to check if a string is a permutation of a palindrome\n",
    "# From : https://www.youtube.com/watch?v=8mEHnwx3EYY\n",
    "\n",
    "import string\n",
    "\n",
    "def isPermutationOfPalindrome(str):\n",
    "    d = dict.fromkeys(string.ascii_lowercase, False)\n",
    "    count = 0\n",
    "    \n",
    "    for char in str.lower():\n",
    "        if(ord(char) > 96 and ord(char) < 123): #why not >= or <= cause a = 97, z = 122\n",
    "            d[char] = not d[char]\n",
    "    \n",
    "    for key in d:\n",
    "        if d[key] is True:\n",
    "            count += 1\n",
    "            print(key, count, sep = ' = ')\n",
    "            if count > 1:\n",
    "                return False\n",
    "    print('Final', count, sep = \" => \")\n",
    "    return True\n",
    "\n",
    "def run(str):\n",
    "    print (str)\n",
    "    print (isPermutationOfPalindrome(str))\n",
    "\n",
    "pali = \"Rats live on no evil star\"    \n",
    "run(pali)\n",
    "\n",
    "pali2 = \"Zeus was deified, saw Suez\"    \n",
    "run(pali2)\n",
    "\n",
    "    \n",
    "    "
   ]
  },
  {
   "cell_type": "code",
   "execution_count": null,
   "metadata": {
    "collapsed": true
   },
   "outputs": [],
   "source": []
  },
  {
   "cell_type": "code",
   "execution_count": null,
   "metadata": {
    "collapsed": true
   },
   "outputs": [],
   "source": []
  }
 ],
 "metadata": {
  "kernelspec": {
   "display_name": "Python 3",
   "language": "python",
   "name": "python3"
  },
  "language_info": {
   "codemirror_mode": {
    "name": "ipython",
    "version": 3
   },
   "file_extension": ".py",
   "mimetype": "text/x-python",
   "name": "python",
   "nbconvert_exporter": "python",
   "pygments_lexer": "ipython3",
   "version": "3.4.3"
  }
 },
 "nbformat": 4,
 "nbformat_minor": 2
}
